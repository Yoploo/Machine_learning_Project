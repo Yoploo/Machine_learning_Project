{
  "nbformat": 4,
  "nbformat_minor": 0,
  "metadata": {
    "colab": {
      "provenance": []
    },
    "kernelspec": {
      "name": "python3",
      "display_name": "Python 3"
    },
    "language_info": {
      "name": "python"
    }
  },
  "cells": [
    {
      "cell_type": "markdown",
      "source": [
        "# Presentation du dataset"
      ],
      "metadata": {
        "id": "dTWC7ZXcK0oZ"
      }
    },
    {
      "cell_type": "markdown",
      "source": [
        "Notre dataset porte sur les jeux vidéo et plus précisément sur le nombre de vente en europe d'un jeu vidéo en fonction de son genre, de son éditeur, de sa platforme et de son année de parution."
      ],
      "metadata": {
        "id": "6SJhDgN4LA1f"
      }
    },
    {
      "cell_type": "markdown",
      "source": [
        "Importation du dataset"
      ],
      "metadata": {
        "id": "ByVyOkLiLsJK"
      }
    },
    {
      "cell_type": "code",
      "execution_count": 43,
      "metadata": {
        "id": "mJoanxsOKZId"
      },
      "outputs": [],
      "source": [
        "import numpy as np\n",
        "import pandas as pd\n",
        "import matplotlib.pyplot as plt\n",
        "import sklearn\n",
        "from sklearn.preprocessing import LabelEncoder, StandardScaler\n",
        "\n",
        "df = pd.read_csv(\"train_data.csv\")"
      ]
    },
    {
      "cell_type": "markdown",
      "source": [
        "Nettoyage du dataset"
      ],
      "metadata": {
        "id": "jk1NEfPoNUly"
      }
    },
    {
      "cell_type": "code",
      "source": [
        "df.drop('na_sales', axis=1, inplace=True)\n",
        "df.drop('jp_sales', axis=1, inplace=True)\n",
        "df.drop('other_sales', axis=1, inplace=True)\n",
        "df.drop('global_sales', axis=1, inplace=True)\n",
        "\n",
        "df.drop('rank', axis=1, inplace=True)\n",
        "df.drop('name', axis=1, inplace=True)\n",
        "\n",
        "df = df.dropna()\n",
        "\n",
        "db = df['year'].fillna(0).astype(int).astype(str).replace('0', '')\n",
        "\n",
        "df.loc[:, 'year'] = db\n",
        "\n",
        "\n",
        "\n",
        "\n",
        "\n",
        "\n"
      ],
      "metadata": {
        "id": "wMdXfko3NoJ5",
        "colab": {
          "base_uri": "https://localhost:8080/"
        },
        "outputId": "b84a62d3-dc90-42c7-8f18-71707b9e7127"
      },
      "execution_count": 44,
      "outputs": [
        {
          "output_type": "stream",
          "name": "stderr",
          "text": [
            "<ipython-input-44-2a9a820487f9>:13: SettingWithCopyWarning: \n",
            "A value is trying to be set on a copy of a slice from a DataFrame.\n",
            "Try using .loc[row_indexer,col_indexer] = value instead\n",
            "\n",
            "See the caveats in the documentation: https://pandas.pydata.org/pandas-docs/stable/user_guide/indexing.html#returning-a-view-versus-a-copy\n",
            "  df.loc[:, 'year'] = db\n"
          ]
        }
      ]
    },
    {
      "cell_type": "markdown",
      "source": [
        "Aperçu du dataset"
      ],
      "metadata": {
        "id": "qOkHBKE6W3Yt"
      }
    },
    {
      "cell_type": "code",
      "source": [
        "display(df.info())"
      ],
      "metadata": {
        "colab": {
          "base_uri": "https://localhost:8080/",
          "height": 243
        },
        "id": "tSxGd1HLcHL8",
        "outputId": "bf4c9c9d-3104-499f-9481-34188f2d5157"
      },
      "execution_count": 16,
      "outputs": [
        {
          "output_type": "stream",
          "name": "stdout",
          "text": [
            "<class 'pandas.core.frame.DataFrame'>\n",
            "Int64Index: 13029 entries, 0 to 13277\n",
            "Data columns (total 5 columns):\n",
            " #   Column     Non-Null Count  Dtype  \n",
            "---  ------     --------------  -----  \n",
            " 0   platform   13029 non-null  object \n",
            " 1   year       13029 non-null  object \n",
            " 2   genre      13029 non-null  object \n",
            " 3   publisher  13029 non-null  object \n",
            " 4   eu_sales   13029 non-null  float64\n",
            "dtypes: float64(1), object(4)\n",
            "memory usage: 610.7+ KB\n"
          ]
        },
        {
          "output_type": "display_data",
          "data": {
            "text/plain": [
              "None"
            ]
          },
          "metadata": {}
        }
      ]
    },
    {
      "cell_type": "code",
      "source": [
        "display(df.describe())"
      ],
      "metadata": {
        "colab": {
          "base_uri": "https://localhost:8080/",
          "height": 300
        },
        "id": "Kh2zDZN_dbzm",
        "outputId": "d46175c1-1d9e-46f3-afd9-feb88965cb63"
      },
      "execution_count": 17,
      "outputs": [
        {
          "output_type": "display_data",
          "data": {
            "text/plain": [
              "           eu_sales\n",
              "count  13029.000000\n",
              "mean       0.150387\n",
              "std        0.533776\n",
              "min        0.000000\n",
              "25%        0.000000\n",
              "50%        0.020000\n",
              "75%        0.110000\n",
              "max       29.020000"
            ],
            "text/html": [
              "\n",
              "  <div id=\"df-6cda3b65-49b0-4c91-ba42-58439fcba53d\" class=\"colab-df-container\">\n",
              "    <div>\n",
              "<style scoped>\n",
              "    .dataframe tbody tr th:only-of-type {\n",
              "        vertical-align: middle;\n",
              "    }\n",
              "\n",
              "    .dataframe tbody tr th {\n",
              "        vertical-align: top;\n",
              "    }\n",
              "\n",
              "    .dataframe thead th {\n",
              "        text-align: right;\n",
              "    }\n",
              "</style>\n",
              "<table border=\"1\" class=\"dataframe\">\n",
              "  <thead>\n",
              "    <tr style=\"text-align: right;\">\n",
              "      <th></th>\n",
              "      <th>eu_sales</th>\n",
              "    </tr>\n",
              "  </thead>\n",
              "  <tbody>\n",
              "    <tr>\n",
              "      <th>count</th>\n",
              "      <td>13029.000000</td>\n",
              "    </tr>\n",
              "    <tr>\n",
              "      <th>mean</th>\n",
              "      <td>0.150387</td>\n",
              "    </tr>\n",
              "    <tr>\n",
              "      <th>std</th>\n",
              "      <td>0.533776</td>\n",
              "    </tr>\n",
              "    <tr>\n",
              "      <th>min</th>\n",
              "      <td>0.000000</td>\n",
              "    </tr>\n",
              "    <tr>\n",
              "      <th>25%</th>\n",
              "      <td>0.000000</td>\n",
              "    </tr>\n",
              "    <tr>\n",
              "      <th>50%</th>\n",
              "      <td>0.020000</td>\n",
              "    </tr>\n",
              "    <tr>\n",
              "      <th>75%</th>\n",
              "      <td>0.110000</td>\n",
              "    </tr>\n",
              "    <tr>\n",
              "      <th>max</th>\n",
              "      <td>29.020000</td>\n",
              "    </tr>\n",
              "  </tbody>\n",
              "</table>\n",
              "</div>\n",
              "    <div class=\"colab-df-buttons\">\n",
              "\n",
              "  <div class=\"colab-df-container\">\n",
              "    <button class=\"colab-df-convert\" onclick=\"convertToInteractive('df-6cda3b65-49b0-4c91-ba42-58439fcba53d')\"\n",
              "            title=\"Convert this dataframe to an interactive table.\"\n",
              "            style=\"display:none;\">\n",
              "\n",
              "  <svg xmlns=\"http://www.w3.org/2000/svg\" height=\"24px\" viewBox=\"0 -960 960 960\">\n",
              "    <path d=\"M120-120v-720h720v720H120Zm60-500h600v-160H180v160Zm220 220h160v-160H400v160Zm0 220h160v-160H400v160ZM180-400h160v-160H180v160Zm440 0h160v-160H620v160ZM180-180h160v-160H180v160Zm440 0h160v-160H620v160Z\"/>\n",
              "  </svg>\n",
              "    </button>\n",
              "\n",
              "  <style>\n",
              "    .colab-df-container {\n",
              "      display:flex;\n",
              "      gap: 12px;\n",
              "    }\n",
              "\n",
              "    .colab-df-convert {\n",
              "      background-color: #E8F0FE;\n",
              "      border: none;\n",
              "      border-radius: 50%;\n",
              "      cursor: pointer;\n",
              "      display: none;\n",
              "      fill: #1967D2;\n",
              "      height: 32px;\n",
              "      padding: 0 0 0 0;\n",
              "      width: 32px;\n",
              "    }\n",
              "\n",
              "    .colab-df-convert:hover {\n",
              "      background-color: #E2EBFA;\n",
              "      box-shadow: 0px 1px 2px rgba(60, 64, 67, 0.3), 0px 1px 3px 1px rgba(60, 64, 67, 0.15);\n",
              "      fill: #174EA6;\n",
              "    }\n",
              "\n",
              "    .colab-df-buttons div {\n",
              "      margin-bottom: 4px;\n",
              "    }\n",
              "\n",
              "    [theme=dark] .colab-df-convert {\n",
              "      background-color: #3B4455;\n",
              "      fill: #D2E3FC;\n",
              "    }\n",
              "\n",
              "    [theme=dark] .colab-df-convert:hover {\n",
              "      background-color: #434B5C;\n",
              "      box-shadow: 0px 1px 3px 1px rgba(0, 0, 0, 0.15);\n",
              "      filter: drop-shadow(0px 1px 2px rgba(0, 0, 0, 0.3));\n",
              "      fill: #FFFFFF;\n",
              "    }\n",
              "  </style>\n",
              "\n",
              "    <script>\n",
              "      const buttonEl =\n",
              "        document.querySelector('#df-6cda3b65-49b0-4c91-ba42-58439fcba53d button.colab-df-convert');\n",
              "      buttonEl.style.display =\n",
              "        google.colab.kernel.accessAllowed ? 'block' : 'none';\n",
              "\n",
              "      async function convertToInteractive(key) {\n",
              "        const element = document.querySelector('#df-6cda3b65-49b0-4c91-ba42-58439fcba53d');\n",
              "        const dataTable =\n",
              "          await google.colab.kernel.invokeFunction('convertToInteractive',\n",
              "                                                    [key], {});\n",
              "        if (!dataTable) return;\n",
              "\n",
              "        const docLinkHtml = 'Like what you see? Visit the ' +\n",
              "          '<a target=\"_blank\" href=https://colab.research.google.com/notebooks/data_table.ipynb>data table notebook</a>'\n",
              "          + ' to learn more about interactive tables.';\n",
              "        element.innerHTML = '';\n",
              "        dataTable['output_type'] = 'display_data';\n",
              "        await google.colab.output.renderOutput(dataTable, element);\n",
              "        const docLink = document.createElement('div');\n",
              "        docLink.innerHTML = docLinkHtml;\n",
              "        element.appendChild(docLink);\n",
              "      }\n",
              "    </script>\n",
              "  </div>\n",
              "\n",
              "\n",
              "<div id=\"df-59093e7c-5d28-45ed-b219-55889234b433\">\n",
              "  <button class=\"colab-df-quickchart\" onclick=\"quickchart('df-59093e7c-5d28-45ed-b219-55889234b433')\"\n",
              "            title=\"Suggest charts\"\n",
              "            style=\"display:none;\">\n",
              "\n",
              "<svg xmlns=\"http://www.w3.org/2000/svg\" height=\"24px\"viewBox=\"0 0 24 24\"\n",
              "     width=\"24px\">\n",
              "    <g>\n",
              "        <path d=\"M19 3H5c-1.1 0-2 .9-2 2v14c0 1.1.9 2 2 2h14c1.1 0 2-.9 2-2V5c0-1.1-.9-2-2-2zM9 17H7v-7h2v7zm4 0h-2V7h2v10zm4 0h-2v-4h2v4z\"/>\n",
              "    </g>\n",
              "</svg>\n",
              "  </button>\n",
              "\n",
              "<style>\n",
              "  .colab-df-quickchart {\n",
              "      --bg-color: #E8F0FE;\n",
              "      --fill-color: #1967D2;\n",
              "      --hover-bg-color: #E2EBFA;\n",
              "      --hover-fill-color: #174EA6;\n",
              "      --disabled-fill-color: #AAA;\n",
              "      --disabled-bg-color: #DDD;\n",
              "  }\n",
              "\n",
              "  [theme=dark] .colab-df-quickchart {\n",
              "      --bg-color: #3B4455;\n",
              "      --fill-color: #D2E3FC;\n",
              "      --hover-bg-color: #434B5C;\n",
              "      --hover-fill-color: #FFFFFF;\n",
              "      --disabled-bg-color: #3B4455;\n",
              "      --disabled-fill-color: #666;\n",
              "  }\n",
              "\n",
              "  .colab-df-quickchart {\n",
              "    background-color: var(--bg-color);\n",
              "    border: none;\n",
              "    border-radius: 50%;\n",
              "    cursor: pointer;\n",
              "    display: none;\n",
              "    fill: var(--fill-color);\n",
              "    height: 32px;\n",
              "    padding: 0;\n",
              "    width: 32px;\n",
              "  }\n",
              "\n",
              "  .colab-df-quickchart:hover {\n",
              "    background-color: var(--hover-bg-color);\n",
              "    box-shadow: 0 1px 2px rgba(60, 64, 67, 0.3), 0 1px 3px 1px rgba(60, 64, 67, 0.15);\n",
              "    fill: var(--button-hover-fill-color);\n",
              "  }\n",
              "\n",
              "  .colab-df-quickchart-complete:disabled,\n",
              "  .colab-df-quickchart-complete:disabled:hover {\n",
              "    background-color: var(--disabled-bg-color);\n",
              "    fill: var(--disabled-fill-color);\n",
              "    box-shadow: none;\n",
              "  }\n",
              "\n",
              "  .colab-df-spinner {\n",
              "    border: 2px solid var(--fill-color);\n",
              "    border-color: transparent;\n",
              "    border-bottom-color: var(--fill-color);\n",
              "    animation:\n",
              "      spin 1s steps(1) infinite;\n",
              "  }\n",
              "\n",
              "  @keyframes spin {\n",
              "    0% {\n",
              "      border-color: transparent;\n",
              "      border-bottom-color: var(--fill-color);\n",
              "      border-left-color: var(--fill-color);\n",
              "    }\n",
              "    20% {\n",
              "      border-color: transparent;\n",
              "      border-left-color: var(--fill-color);\n",
              "      border-top-color: var(--fill-color);\n",
              "    }\n",
              "    30% {\n",
              "      border-color: transparent;\n",
              "      border-left-color: var(--fill-color);\n",
              "      border-top-color: var(--fill-color);\n",
              "      border-right-color: var(--fill-color);\n",
              "    }\n",
              "    40% {\n",
              "      border-color: transparent;\n",
              "      border-right-color: var(--fill-color);\n",
              "      border-top-color: var(--fill-color);\n",
              "    }\n",
              "    60% {\n",
              "      border-color: transparent;\n",
              "      border-right-color: var(--fill-color);\n",
              "    }\n",
              "    80% {\n",
              "      border-color: transparent;\n",
              "      border-right-color: var(--fill-color);\n",
              "      border-bottom-color: var(--fill-color);\n",
              "    }\n",
              "    90% {\n",
              "      border-color: transparent;\n",
              "      border-bottom-color: var(--fill-color);\n",
              "    }\n",
              "  }\n",
              "</style>\n",
              "\n",
              "  <script>\n",
              "    async function quickchart(key) {\n",
              "      const quickchartButtonEl =\n",
              "        document.querySelector('#' + key + ' button');\n",
              "      quickchartButtonEl.disabled = true;  // To prevent multiple clicks.\n",
              "      quickchartButtonEl.classList.add('colab-df-spinner');\n",
              "      try {\n",
              "        const charts = await google.colab.kernel.invokeFunction(\n",
              "            'suggestCharts', [key], {});\n",
              "      } catch (error) {\n",
              "        console.error('Error during call to suggestCharts:', error);\n",
              "      }\n",
              "      quickchartButtonEl.classList.remove('colab-df-spinner');\n",
              "      quickchartButtonEl.classList.add('colab-df-quickchart-complete');\n",
              "    }\n",
              "    (() => {\n",
              "      let quickchartButtonEl =\n",
              "        document.querySelector('#df-59093e7c-5d28-45ed-b219-55889234b433 button');\n",
              "      quickchartButtonEl.style.display =\n",
              "        google.colab.kernel.accessAllowed ? 'block' : 'none';\n",
              "    })();\n",
              "  </script>\n",
              "</div>\n",
              "    </div>\n",
              "  </div>\n"
            ]
          },
          "metadata": {}
        }
      ]
    },
    {
      "cell_type": "code",
      "source": [
        "games_by_year = df['year'].value_counts().sort_index()\n",
        "\n",
        "plt.figure(figsize=(8, 5))\n",
        "games_by_year.plot(kind='bar', color='Red')\n",
        "plt.title('Nombre de jeux vidéo par année')\n",
        "plt.xlabel('Année')\n",
        "plt.ylabel('Nombre de jeux')\n",
        "plt.grid(axis='y')\n",
        "plt.xticks(rotation=45)\n",
        "plt.tight_layout()\n",
        "\n",
        "plt.show()\n"
      ],
      "metadata": {
        "id": "Dz1dwObkW3Ms",
        "colab": {
          "base_uri": "https://localhost:8080/",
          "height": 507
        },
        "outputId": "1353fee5-837c-4685-ee0b-c9c4fef25170"
      },
      "execution_count": 18,
      "outputs": [
        {
          "output_type": "display_data",
          "data": {
            "text/plain": [
              "<Figure size 800x500 with 1 Axes>"
            ],
            "image/png": "[encoded data removed]"
          },
          "metadata": {}
        }
      ]
    },
    {
      "cell_type": "markdown",
      "source": [
        "Preprocessing"
      ],
      "metadata": {
        "id": "NAeRFTh4wzs8"
      }
    },
    {
      "cell_type": "code",
      "source": [
        "categorical_cols = ['platform', 'genre', 'publisher']\n",
        "encoder = LabelEncoder()\n",
        "for col in categorical_cols:\n",
        "    df[col] = encoder.fit_transform(df[col])\n",
        "\n",
        "scaler = StandardScaler()\n",
        "df['publisher'] = scaler.fit_transform(df[['publisher']])\n",
        "df['platform'] = scaler.fit_transform(df[['platform']])\n",
        "df['genre'] = scaler.fit_transform(df[['genre']])\n"
      ],
      "metadata": {
        "id": "FlqlV4vDw396"
      },
      "execution_count": 45,
      "outputs": []
    },
    {
      "cell_type": "markdown",
      "source": [
        "Feature Selection"
      ],
      "metadata": {
        "id": "RKqd3Hn5xXoY"
      }
    },
    {
      "cell_type": "code",
      "source": [
        "from sklearn.feature_selection import RFE\n",
        "from sklearn.linear_model import LinearRegression\n",
        "\n",
        "\n",
        "features = ['platform', 'year', 'genre', 'publisher']\n",
        "\n",
        "\n",
        "X = df[features]\n",
        "y = df['eu_sales']\n",
        "\n",
        "\n",
        "model = LinearRegression()\n",
        "\n",
        "\n",
        "rfe = RFE(model, n_features_to_select=3)\n",
        "\n",
        "rfe.fit(X, y)\n",
        "\n",
        "selected_features = X.columns[rfe.support_]\n",
        "print(\"Caractéristiques sélectionnées:\", selected_features)"
      ],
      "metadata": {
        "colab": {
          "base_uri": "https://localhost:8080/"
        },
        "id": "yPxgsL2-xcM1",
        "outputId": "2369e7ca-18f6-4304-c86d-09c7d4009732"
      },
      "execution_count": 20,
      "outputs": [
        {
          "output_type": "stream",
          "name": "stdout",
          "text": [
            "Caractéristiques sélectionnées: Index(['platform', 'genre', 'publisher'], dtype='object')\n"
          ]
        }
      ]
    },
    {
      "cell_type": "markdown",
      "source": [
        "Training the modele"
      ],
      "metadata": {
        "id": "4lWd54o6yEWI"
      }
    },
    {
      "cell_type": "code",
      "source": [
        "from sklearn.model_selection import train_test_split\n",
        "from sklearn.linear_model import LinearRegression\n",
        "from sklearn.metrics import mean_squared_error\n",
        "\n",
        "\n",
        "selected_features = ['platform', 'year', 'genre', 'publisher']\n",
        "\n",
        "X = df[selected_features]\n",
        "y = df['eu_sales']\n",
        "\n",
        "X_train, X_test, y_train, y_test = train_test_split(X, y, test_size=0.2, random_state=42)\n",
        "\n",
        "X_train, X_test, y_train, y_test = train_test_split(X_selected, y, test_size=0.2, random_state=42)\n",
        "\n",
        "\n",
        "model = LinearRegression()\n",
        "\n",
        "\n",
        "model.fit(X_train, y_train)\n",
        "\n",
        "\n",
        "predictions = model.predict(X_test)\n",
        "\n",
        "mse = mean_squared_error(y_test, predictions)\n",
        "print(f\"MSE (Mean Squared Error): {mse}\")"
      ],
      "metadata": {
        "colab": {
          "base_uri": "https://localhost:8080/"
        },
        "id": "X-miK9fcyLUv",
        "outputId": "0bcd91b2-c09d-43b6-dd6a-52dc11bb4cd4"
      },
      "execution_count": 28,
      "outputs": [
        {
          "output_type": "stream",
          "name": "stdout",
          "text": [
            "MSE (Mean Squared Error): 0.4468438985423866\n"
          ]
        }
      ]
    },
    {
      "cell_type": "markdown",
      "source": [
        "Amelioration du modele"
      ],
      "metadata": {
        "id": "g70foP2Mz-Hs"
      }
    },
    {
      "cell_type": "code",
      "source": [
        "from sklearn.model_selection import GridSearchCV\n",
        "\n",
        "\n",
        "param_grid = {\n",
        "    'fit_intercept': [True, False],\n",
        "    'copy_X': [True, False],\n",
        "    'positive': [True, False],\n",
        "    'n_jobs': [-1, 1, 2],\n",
        "}\n",
        "\n",
        "grid_search = GridSearchCV(estimator=model, param_grid=param_grid, cv=3, scoring='neg_mean_squared_error', verbose=2)\n",
        "\n",
        "grid_search.fit(X_train, y_train)\n",
        "\n",
        "print(\"Meilleurs paramètres :\", grid_search.best_params_)\n",
        "\n",
        "\n",
        "best_model = grid_search.best_estimator_\n",
        "predictions = best_model.predict(X_test)\n",
        "\n",
        "\n",
        "mse = mean_squared_error(y_test, predictions)\n",
        "print(f\"MSE (Mean Squared Error) avec les meilleurs paramètres : {mse}\")"
      ],
      "metadata": {
        "colab": {
          "base_uri": "https://localhost:8080/"
        },
        "id": "ouA9VaQ4z9O8",
        "outputId": "f791d2a0-1833-4b38-941f-d72cf7160f83"
      },
      "execution_count": 37,
      "outputs": [
        {
          "output_type": "stream",
          "name": "stdout",
          "text": [
            "Fitting 3 folds for each of 24 candidates, totalling 72 fits\n",
            "[CV] END copy_X=True, fit_intercept=True, n_jobs=-1, positive=True; total time=   0.0s\n",
            "[CV] END copy_X=True, fit_intercept=True, n_jobs=-1, positive=True; total time=   0.0s\n",
            "[CV] END copy_X=True, fit_intercept=True, n_jobs=-1, positive=True; total time=   0.0s\n",
            "[CV] END copy_X=True, fit_intercept=True, n_jobs=-1, positive=False; total time=   0.0s\n",
            "[CV] END copy_X=True, fit_intercept=True, n_jobs=-1, positive=False; total time=   0.0s\n",
            "[CV] END copy_X=True, fit_intercept=True, n_jobs=-1, positive=False; total time=   0.0s\n",
            "[CV] END copy_X=True, fit_intercept=True, n_jobs=1, positive=True; total time=   0.0s\n",
            "[CV] END copy_X=True, fit_intercept=True, n_jobs=1, positive=True; total time=   0.0s\n",
            "[CV] END copy_X=True, fit_intercept=True, n_jobs=1, positive=True; total time=   0.0s\n",
            "[CV] END copy_X=True, fit_intercept=True, n_jobs=1, positive=False; total time=   0.0s\n",
            "[CV] END copy_X=True, fit_intercept=True, n_jobs=1, positive=False; total time=   0.0s\n",
            "[CV] END copy_X=True, fit_intercept=True, n_jobs=1, positive=False; total time=   0.0s\n",
            "[CV] END copy_X=True, fit_intercept=True, n_jobs=2, positive=True; total time=   0.0s\n",
            "[CV] END copy_X=True, fit_intercept=True, n_jobs=2, positive=True; total time=   0.0s\n",
            "[CV] END copy_X=True, fit_intercept=True, n_jobs=2, positive=True; total time=   0.0s\n",
            "[CV] END copy_X=True, fit_intercept=True, n_jobs=2, positive=False; total time=   0.0s\n",
            "[CV] END copy_X=True, fit_intercept=True, n_jobs=2, positive=False; total time=   0.0s\n",
            "[CV] END copy_X=True, fit_intercept=True, n_jobs=2, positive=False; total time=   0.0s\n",
            "[CV] END copy_X=True, fit_intercept=False, n_jobs=-1, positive=True; total time=   0.0s\n",
            "[CV] END copy_X=True, fit_intercept=False, n_jobs=-1, positive=True; total time=   0.0s\n",
            "[CV] END copy_X=True, fit_intercept=False, n_jobs=-1, positive=True; total time=   0.0s\n",
            "[CV] END copy_X=True, fit_intercept=False, n_jobs=-1, positive=False; total time=   0.0s\n",
            "[CV] END copy_X=True, fit_intercept=False, n_jobs=-1, positive=False; total time=   0.0s\n",
            "[CV] END copy_X=True, fit_intercept=False, n_jobs=-1, positive=False; total time=   0.0s\n",
            "[CV] END copy_X=True, fit_intercept=False, n_jobs=1, positive=True; total time=   0.0s\n",
            "[CV] END copy_X=True, fit_intercept=False, n_jobs=1, positive=True; total time=   0.0s\n",
            "[CV] END copy_X=True, fit_intercept=False, n_jobs=1, positive=True; total time=   0.0s\n",
            "[CV] END copy_X=True, fit_intercept=False, n_jobs=1, positive=False; total time=   0.0s\n",
            "[CV] END copy_X=True, fit_intercept=False, n_jobs=1, positive=False; total time=   0.1s\n",
            "[CV] END copy_X=True, fit_intercept=False, n_jobs=1, positive=False; total time=   0.0s\n",
            "[CV] END copy_X=True, fit_intercept=False, n_jobs=2, positive=True; total time=   0.0s\n",
            "[CV] END copy_X=True, fit_intercept=False, n_jobs=2, positive=True; total time=   0.0s\n",
            "[CV] END copy_X=True, fit_intercept=False, n_jobs=2, positive=True; total time=   0.0s\n",
            "[CV] END copy_X=True, fit_intercept=False, n_jobs=2, positive=False; total time=   0.0s\n",
            "[CV] END copy_X=True, fit_intercept=False, n_jobs=2, positive=False; total time=   0.0s\n",
            "[CV] END copy_X=True, fit_intercept=False, n_jobs=2, positive=False; total time=   0.0s\n",
            "[CV] END copy_X=False, fit_intercept=True, n_jobs=-1, positive=True; total time=   0.0s\n",
            "[CV] END copy_X=False, fit_intercept=True, n_jobs=-1, positive=True; total time=   0.0s\n",
            "[CV] END copy_X=False, fit_intercept=True, n_jobs=-1, positive=True; total time=   0.0s\n",
            "[CV] END copy_X=False, fit_intercept=True, n_jobs=-1, positive=False; total time=   0.0s\n",
            "[CV] END copy_X=False, fit_intercept=True, n_jobs=-1, positive=False; total time=   0.0s\n",
            "[CV] END copy_X=False, fit_intercept=True, n_jobs=-1, positive=False; total time=   0.0s\n",
            "[CV] END copy_X=False, fit_intercept=True, n_jobs=1, positive=True; total time=   0.0s\n",
            "[CV] END copy_X=False, fit_intercept=True, n_jobs=1, positive=True; total time=   0.1s\n",
            "[CV] END copy_X=False, fit_intercept=True, n_jobs=1, positive=True; total time=   0.0s\n",
            "[CV] END copy_X=False, fit_intercept=True, n_jobs=1, positive=False; total time=   0.1s\n",
            "[CV] END copy_X=False, fit_intercept=True, n_jobs=1, positive=False; total time=   0.0s\n",
            "[CV] END copy_X=False, fit_intercept=True, n_jobs=1, positive=False; total time=   0.0s\n",
            "[CV] END copy_X=False, fit_intercept=True, n_jobs=2, positive=True; total time=   0.0s\n",
            "[CV] END copy_X=False, fit_intercept=True, n_jobs=2, positive=True; total time=   0.0s\n",
            "[CV] END copy_X=False, fit_intercept=True, n_jobs=2, positive=True; total time=   0.0s\n",
            "[CV] END copy_X=False, fit_intercept=True, n_jobs=2, positive=False; total time=   0.0s\n",
            "[CV] END copy_X=False, fit_intercept=True, n_jobs=2, positive=False; total time=   0.0s\n",
            "[CV] END copy_X=False, fit_intercept=True, n_jobs=2, positive=False; total time=   0.1s\n",
            "[CV] END copy_X=False, fit_intercept=False, n_jobs=-1, positive=True; total time=   0.1s\n",
            "[CV] END copy_X=False, fit_intercept=False, n_jobs=-1, positive=True; total time=   0.1s\n",
            "[CV] END copy_X=False, fit_intercept=False, n_jobs=-1, positive=True; total time=   0.1s\n",
            "[CV] END copy_X=False, fit_intercept=False, n_jobs=-1, positive=False; total time=   0.1s\n",
            "[CV] END copy_X=False, fit_intercept=False, n_jobs=-1, positive=False; total time=   0.1s\n",
            "[CV] END copy_X=False, fit_intercept=False, n_jobs=-1, positive=False; total time=   0.1s\n",
            "[CV] END copy_X=False, fit_intercept=False, n_jobs=1, positive=True; total time=   0.0s\n",
            "[CV] END copy_X=False, fit_intercept=False, n_jobs=1, positive=True; total time=   0.0s\n",
            "[CV] END copy_X=False, fit_intercept=False, n_jobs=1, positive=True; total time=   0.1s\n",
            "[CV] END copy_X=False, fit_intercept=False, n_jobs=1, positive=False; total time=   0.0s\n",
            "[CV] END copy_X=False, fit_intercept=False, n_jobs=1, positive=False; total time=   0.1s\n",
            "[CV] END copy_X=False, fit_intercept=False, n_jobs=1, positive=False; total time=   0.0s\n",
            "[CV] END copy_X=False, fit_intercept=False, n_jobs=2, positive=True; total time=   0.0s\n",
            "[CV] END copy_X=False, fit_intercept=False, n_jobs=2, positive=True; total time=   0.1s\n",
            "[CV] END copy_X=False, fit_intercept=False, n_jobs=2, positive=True; total time=   0.1s\n",
            "[CV] END copy_X=False, fit_intercept=False, n_jobs=2, positive=False; total time=   0.1s\n",
            "[CV] END copy_X=False, fit_intercept=False, n_jobs=2, positive=False; total time=   0.0s\n",
            "[CV] END copy_X=False, fit_intercept=False, n_jobs=2, positive=False; total time=   0.0s\n",
            "Meilleurs paramètres : {'copy_X': True, 'fit_intercept': False, 'n_jobs': -1, 'positive': False}\n",
            "MSE (Mean Squared Error) avec les meilleurs paramètres : 0.44680740514922734\n"
          ]
        }
      ]
    },
    {
      "cell_type": "markdown",
      "source": [
        "Test prediction"
      ],
      "metadata": {
        "id": "KxZjg3Eo2x4N"
      }
    },
    {
      "cell_type": "code",
      "source": [
        "\n",
        "df_test = pd.read_csv(\"test_data.csv\")\n",
        "\n",
        "df_test.drop('na_sales', axis=1, inplace=True)\n",
        "df_test.drop('jp_sales', axis=1, inplace=True)\n",
        "df_test.drop('other_sales', axis=1, inplace=True)\n",
        "df_test.drop('global_sales', axis=1, inplace=True)\n",
        "\n",
        "df_test.drop('rank', axis=1, inplace=True)\n",
        "df_test.drop('name', axis=1, inplace=True)\n",
        "\n",
        "df_test = df_test.dropna()\n",
        "\n",
        "db_test = df_test['year'].fillna(0).astype(int).astype(str).replace('0', '')\n",
        "\n",
        "df_test.loc[:, 'year'] = db\n",
        "\n",
        "\n",
        "categorical_cols = ['platform', 'genre', 'publisher']\n",
        "encoder = LabelEncoder()\n",
        "for col in categorical_cols:\n",
        "    df_test[col] = encoder.fit_transform(df_test[col])\n",
        "\n",
        "scaler2 = StandardScaler()\n",
        "df_test['publisher'] = scaler2.fit_transform(df_test[['publisher']])\n",
        "df_test['platform'] = scaler2.fit_transform(df_test[['platform']])\n",
        "df_test['genre'] = scaler2.fit_transform(df_test[['genre']])\n",
        "\n",
        "\n",
        "selected_features_test = ['platform', 'year', 'genre', 'publisher']\n",
        "\n",
        "X_test_new = df_test[selected_features_test]\n",
        "\n",
        "\n",
        "predictions_test = best_model.predict(X_test_new)\n",
        "\n"
      ],
      "metadata": {
        "colab": {
          "base_uri": "https://localhost:8080/",
          "height": 1000
        },
        "id": "76066kiw20Co",
        "outputId": "278d4d15-8186-4e58-a08c-2e764df164b3"
      },
      "execution_count": 50,
      "outputs": [
        {
          "output_type": "stream",
          "name": "stderr",
          "text": [
            "<ipython-input-50-d1d6654895ee>:16: SettingWithCopyWarning: \n",
            "A value is trying to be set on a copy of a slice from a DataFrame.\n",
            "Try using .loc[row_indexer,col_indexer] = value instead\n",
            "\n",
            "See the caveats in the documentation: https://pandas.pydata.org/pandas-docs/stable/user_guide/indexing.html#returning-a-view-versus-a-copy\n",
            "  df_test.loc[:, 'year'] = db\n",
            "<ipython-input-50-d1d6654895ee>:22: SettingWithCopyWarning: \n",
            "A value is trying to be set on a copy of a slice from a DataFrame.\n",
            "Try using .loc[row_indexer,col_indexer] = value instead\n",
            "\n",
            "See the caveats in the documentation: https://pandas.pydata.org/pandas-docs/stable/user_guide/indexing.html#returning-a-view-versus-a-copy\n",
            "  df_test[col] = encoder.fit_transform(df_test[col])\n",
            "<ipython-input-50-d1d6654895ee>:22: SettingWithCopyWarning: \n",
            "A value is trying to be set on a copy of a slice from a DataFrame.\n",
            "Try using .loc[row_indexer,col_indexer] = value instead\n",
            "\n",
            "See the caveats in the documentation: https://pandas.pydata.org/pandas-docs/stable/user_guide/indexing.html#returning-a-view-versus-a-copy\n",
            "  df_test[col] = encoder.fit_transform(df_test[col])\n",
            "<ipython-input-50-d1d6654895ee>:22: SettingWithCopyWarning: \n",
            "A value is trying to be set on a copy of a slice from a DataFrame.\n",
            "Try using .loc[row_indexer,col_indexer] = value instead\n",
            "\n",
            "See the caveats in the documentation: https://pandas.pydata.org/pandas-docs/stable/user_guide/indexing.html#returning-a-view-versus-a-copy\n",
            "  df_test[col] = encoder.fit_transform(df_test[col])\n",
            "<ipython-input-50-d1d6654895ee>:25: SettingWithCopyWarning: \n",
            "A value is trying to be set on a copy of a slice from a DataFrame.\n",
            "Try using .loc[row_indexer,col_indexer] = value instead\n",
            "\n",
            "See the caveats in the documentation: https://pandas.pydata.org/pandas-docs/stable/user_guide/indexing.html#returning-a-view-versus-a-copy\n",
            "  df_test['publisher'] = scaler2.fit_transform(df_test[['publisher']])\n",
            "<ipython-input-50-d1d6654895ee>:26: SettingWithCopyWarning: \n",
            "A value is trying to be set on a copy of a slice from a DataFrame.\n",
            "Try using .loc[row_indexer,col_indexer] = value instead\n",
            "\n",
            "See the caveats in the documentation: https://pandas.pydata.org/pandas-docs/stable/user_guide/indexing.html#returning-a-view-versus-a-copy\n",
            "  df_test['platform'] = scaler2.fit_transform(df_test[['platform']])\n",
            "<ipython-input-50-d1d6654895ee>:27: SettingWithCopyWarning: \n",
            "A value is trying to be set on a copy of a slice from a DataFrame.\n",
            "Try using .loc[row_indexer,col_indexer] = value instead\n",
            "\n",
            "See the caveats in the documentation: https://pandas.pydata.org/pandas-docs/stable/user_guide/indexing.html#returning-a-view-versus-a-copy\n",
            "  df_test['genre'] = scaler2.fit_transform(df_test[['genre']])\n"
          ]
        },
        {
          "output_type": "error",
          "ename": "ValueError",
          "evalue": "ignored",
          "traceback": [
            "\u001b[0;31m---------------------------------------------------------------------------\u001b[0m",
            "\u001b[0;31mValueError\u001b[0m                                Traceback (most recent call last)",
            "\u001b[0;32m<ipython-input-50-d1d6654895ee>\u001b[0m in \u001b[0;36m<cell line: 36>\u001b[0;34m()\u001b[0m\n\u001b[1;32m     34\u001b[0m \u001b[0;34m\u001b[0m\u001b[0m\n\u001b[1;32m     35\u001b[0m \u001b[0;31m# Faire des prédictions sur les données de test\u001b[0m\u001b[0;34m\u001b[0m\u001b[0;34m\u001b[0m\u001b[0m\n\u001b[0;32m---> 36\u001b[0;31m \u001b[0mpredictions_test\u001b[0m \u001b[0;34m=\u001b[0m \u001b[0mbest_model\u001b[0m\u001b[0;34m.\u001b[0m\u001b[0mpredict\u001b[0m\u001b[0;34m(\u001b[0m\u001b[0mX_test_new\u001b[0m\u001b[0;34m)\u001b[0m  \u001b[0;31m# Utilise le meilleur modèle entraîné\u001b[0m\u001b[0;34m\u001b[0m\u001b[0;34m\u001b[0m\u001b[0m\n\u001b[0m\u001b[1;32m     37\u001b[0m \u001b[0;34m\u001b[0m\u001b[0m\n",
            "\u001b[0;32m/usr/local/lib/python3.10/dist-packages/sklearn/linear_model/_base.py\u001b[0m in \u001b[0;36mpredict\u001b[0;34m(self, X)\u001b[0m\n\u001b[1;32m    352\u001b[0m             \u001b[0mReturns\u001b[0m \u001b[0mpredicted\u001b[0m \u001b[0mvalues\u001b[0m\u001b[0;34m.\u001b[0m\u001b[0;34m\u001b[0m\u001b[0;34m\u001b[0m\u001b[0m\n\u001b[1;32m    353\u001b[0m         \"\"\"\n\u001b[0;32m--> 354\u001b[0;31m         \u001b[0;32mreturn\u001b[0m \u001b[0mself\u001b[0m\u001b[0;34m.\u001b[0m\u001b[0m_decision_function\u001b[0m\u001b[0;34m(\u001b[0m\u001b[0mX\u001b[0m\u001b[0;34m)\u001b[0m\u001b[0;34m\u001b[0m\u001b[0;34m\u001b[0m\u001b[0m\n\u001b[0m\u001b[1;32m    355\u001b[0m \u001b[0;34m\u001b[0m\u001b[0m\n\u001b[1;32m    356\u001b[0m     \u001b[0;32mdef\u001b[0m \u001b[0m_set_intercept\u001b[0m\u001b[0;34m(\u001b[0m\u001b[0mself\u001b[0m\u001b[0;34m,\u001b[0m \u001b[0mX_offset\u001b[0m\u001b[0;34m,\u001b[0m \u001b[0my_offset\u001b[0m\u001b[0;34m,\u001b[0m \u001b[0mX_scale\u001b[0m\u001b[0;34m)\u001b[0m\u001b[0;34m:\u001b[0m\u001b[0;34m\u001b[0m\u001b[0;34m\u001b[0m\u001b[0m\n",
            "\u001b[0;32m/usr/local/lib/python3.10/dist-packages/sklearn/linear_model/_base.py\u001b[0m in \u001b[0;36m_decision_function\u001b[0;34m(self, X)\u001b[0m\n\u001b[1;32m    335\u001b[0m         \u001b[0mcheck_is_fitted\u001b[0m\u001b[0;34m(\u001b[0m\u001b[0mself\u001b[0m\u001b[0;34m)\u001b[0m\u001b[0;34m\u001b[0m\u001b[0;34m\u001b[0m\u001b[0m\n\u001b[1;32m    336\u001b[0m \u001b[0;34m\u001b[0m\u001b[0m\n\u001b[0;32m--> 337\u001b[0;31m         \u001b[0mX\u001b[0m \u001b[0;34m=\u001b[0m \u001b[0mself\u001b[0m\u001b[0;34m.\u001b[0m\u001b[0m_validate_data\u001b[0m\u001b[0;34m(\u001b[0m\u001b[0mX\u001b[0m\u001b[0;34m,\u001b[0m \u001b[0maccept_sparse\u001b[0m\u001b[0;34m=\u001b[0m\u001b[0;34m[\u001b[0m\u001b[0;34m\"csr\"\u001b[0m\u001b[0;34m,\u001b[0m \u001b[0;34m\"csc\"\u001b[0m\u001b[0;34m,\u001b[0m \u001b[0;34m\"coo\"\u001b[0m\u001b[0;34m]\u001b[0m\u001b[0;34m,\u001b[0m \u001b[0mreset\u001b[0m\u001b[0;34m=\u001b[0m\u001b[0;32mFalse\u001b[0m\u001b[0;34m)\u001b[0m\u001b[0;34m\u001b[0m\u001b[0;34m\u001b[0m\u001b[0m\n\u001b[0m\u001b[1;32m    338\u001b[0m         \u001b[0;32mreturn\u001b[0m \u001b[0msafe_sparse_dot\u001b[0m\u001b[0;34m(\u001b[0m\u001b[0mX\u001b[0m\u001b[0;34m,\u001b[0m \u001b[0mself\u001b[0m\u001b[0;34m.\u001b[0m\u001b[0mcoef_\u001b[0m\u001b[0;34m.\u001b[0m\u001b[0mT\u001b[0m\u001b[0;34m,\u001b[0m \u001b[0mdense_output\u001b[0m\u001b[0;34m=\u001b[0m\u001b[0;32mTrue\u001b[0m\u001b[0;34m)\u001b[0m \u001b[0;34m+\u001b[0m \u001b[0mself\u001b[0m\u001b[0;34m.\u001b[0m\u001b[0mintercept_\u001b[0m\u001b[0;34m\u001b[0m\u001b[0;34m\u001b[0m\u001b[0m\n\u001b[1;32m    339\u001b[0m \u001b[0;34m\u001b[0m\u001b[0m\n",
            "\u001b[0;32m/usr/local/lib/python3.10/dist-packages/sklearn/base.py\u001b[0m in \u001b[0;36m_validate_data\u001b[0;34m(self, X, y, reset, validate_separately, **check_params)\u001b[0m\n\u001b[1;32m    546\u001b[0m             \u001b[0mvalidated\u001b[0m\u001b[0;34m.\u001b[0m\u001b[0;34m\u001b[0m\u001b[0;34m\u001b[0m\u001b[0m\n\u001b[1;32m    547\u001b[0m         \"\"\"\n\u001b[0;32m--> 548\u001b[0;31m         \u001b[0mself\u001b[0m\u001b[0;34m.\u001b[0m\u001b[0m_check_feature_names\u001b[0m\u001b[0;34m(\u001b[0m\u001b[0mX\u001b[0m\u001b[0;34m,\u001b[0m \u001b[0mreset\u001b[0m\u001b[0;34m=\u001b[0m\u001b[0mreset\u001b[0m\u001b[0;34m)\u001b[0m\u001b[0;34m\u001b[0m\u001b[0;34m\u001b[0m\u001b[0m\n\u001b[0m\u001b[1;32m    549\u001b[0m \u001b[0;34m\u001b[0m\u001b[0m\n\u001b[1;32m    550\u001b[0m         \u001b[0;32mif\u001b[0m \u001b[0my\u001b[0m \u001b[0;32mis\u001b[0m \u001b[0;32mNone\u001b[0m \u001b[0;32mand\u001b[0m \u001b[0mself\u001b[0m\u001b[0;34m.\u001b[0m\u001b[0m_get_tags\u001b[0m\u001b[0;34m(\u001b[0m\u001b[0;34m)\u001b[0m\u001b[0;34m[\u001b[0m\u001b[0;34m\"requires_y\"\u001b[0m\u001b[0;34m]\u001b[0m\u001b[0;34m:\u001b[0m\u001b[0;34m\u001b[0m\u001b[0;34m\u001b[0m\u001b[0m\n",
            "\u001b[0;32m/usr/local/lib/python3.10/dist-packages/sklearn/base.py\u001b[0m in \u001b[0;36m_check_feature_names\u001b[0;34m(self, X, reset)\u001b[0m\n\u001b[1;32m    479\u001b[0m                 )\n\u001b[1;32m    480\u001b[0m \u001b[0;34m\u001b[0m\u001b[0m\n\u001b[0;32m--> 481\u001b[0;31m             \u001b[0;32mraise\u001b[0m \u001b[0mValueError\u001b[0m\u001b[0;34m(\u001b[0m\u001b[0mmessage\u001b[0m\u001b[0;34m)\u001b[0m\u001b[0;34m\u001b[0m\u001b[0;34m\u001b[0m\u001b[0m\n\u001b[0m\u001b[1;32m    482\u001b[0m \u001b[0;34m\u001b[0m\u001b[0m\n\u001b[1;32m    483\u001b[0m     def _validate_data(\n",
            "\u001b[0;31mValueError\u001b[0m: The feature names should match those that were passed during fit.\nFeature names unseen at fit time:\n- genre\n"
          ]
        }
      ]
    }
  ]
}